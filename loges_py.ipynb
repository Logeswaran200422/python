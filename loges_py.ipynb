{
  "nbformat": 4,
  "nbformat_minor": 0,
  "metadata": {
    "colab": {
      "provenance": [],
      "authorship_tag": "ABX9TyMrB5Wa8D7NpMoawkQw1ZaD",
      "include_colab_link": true
    },
    "kernelspec": {
      "name": "python3",
      "display_name": "Python 3"
    },
    "language_info": {
      "name": "python"
    }
  },
  "cells": [
    {
      "cell_type": "markdown",
      "metadata": {
        "id": "view-in-github",
        "colab_type": "text"
      },
      "source": [
        "<a href=\"https://colab.research.google.com/github/Logeswaran200422/python/blob/main/loges_py.ipynb\" target=\"_parent\"><img src=\"https://colab.research.google.com/assets/colab-badge.svg\" alt=\"Open In Colab\"/></a>"
      ]
    },
    {
      "cell_type": "code",
      "execution_count": null,
      "metadata": {
        "colab": {
          "base_uri": "https://localhost:8080/"
        },
        "id": "A0z_PH7BCSj_",
        "outputId": "1817d3ef-9385-4226-a3d1-592a7004d5fb"
      },
      "outputs": [
        {
          "output_type": "stream",
          "name": "stdout",
          "text": [
            "total marks of student alice= 270\n",
            "total marks of student boob= 237\n",
            "total marks of student carol= 271\n",
            "total marks of student david= 195\n"
          ]
        }
      ],
      "source": [
        "stu=[[\"alice\",85,90,95],[\"boob\",75,80,82],[\"carol\",92,88,91],[\"david\",60,65,70]]\n",
        "for i in stu:\n",
        "  name=i[0]\n",
        "  marks=i[1:]\n",
        "  total=sum(marks)\n",
        "  print(f\"total marks of student {name}= {total}\")"
      ]
    },
    {
      "cell_type": "code",
      "source": [
        "stu=[[\"alice\",85,90,95],[\"boob\",75,80,82],[\"carol\",92,88,91],[\"david\",60,65,70]]\n",
        "for i in stu:\n",
        "  name=i[0]\n",
        "  marks=i[1:]\n",
        "  total=sum(marks)\n",
        "  average=total/(len(marks))\n",
        "  higher_avg=0\n",
        "  if average < higher_avg:\n",
        "    higher_avg=average\n",
        "  else:\n",
        "    break\n",
        "    stu_with_highest_avg=name\n",
        "print(f\"student with highest average: {name}- {average}\")"
      ],
      "metadata": {
        "colab": {
          "base_uri": "https://localhost:8080/"
        },
        "id": "v7RgA1VKGjzI",
        "outputId": "ab1c427b-b5ec-49cf-e2c2-e7b341ba7dec"
      },
      "execution_count": null,
      "outputs": [
        {
          "output_type": "stream",
          "name": "stdout",
          "text": [
            "student with highest average: alice- 90.0\n"
          ]
        }
      ]
    },
    {
      "cell_type": "code",
      "source": [
        "stu=[[\"alice\",85,90,95],[\"boob\",75,80,82],[\"carol\",92,88,91],[\"david\",60,65,70]]\n",
        "for i in stu:\n",
        "  name=i[0]\n",
        "  marks=i[1:]\n",
        "  total=sum(marks)\n",
        "  if total >250:\n",
        "    print(f\"total marks of student {name}= {total}\")"
      ],
      "metadata": {
        "colab": {
          "base_uri": "https://localhost:8080/"
        },
        "id": "U-E_aeQ5K2rn",
        "outputId": "2c8f0c10-634d-4acc-8bb6-f56c6503afe7"
      },
      "execution_count": null,
      "outputs": [
        {
          "output_type": "stream",
          "name": "stdout",
          "text": [
            "total marks of student alice= 270\n",
            "total marks of student carol= 271\n"
          ]
        }
      ]
    },
    {
      "cell_type": "code",
      "source": [
        "stu=[[\"alice\",85,90,95],[\"boob\",75,80,82],[\"carol\",92,88,91],[\"david\",60,65,70]]\n",
        "stu.append([\"moni\",99,76,54])\n",
        "print(stu)"
      ],
      "metadata": {
        "colab": {
          "base_uri": "https://localhost:8080/"
        },
        "id": "ne6rMjsaLSqI",
        "outputId": "b27fb9ab-9ab1-4e18-db59-fde986c9df6f"
      },
      "execution_count": null,
      "outputs": [
        {
          "output_type": "stream",
          "name": "stdout",
          "text": [
            "[['alice', 85, 90, 95], ['boob', 75, 80, 82], ['carol', 92, 88, 91], ['david', 60, 65, 70], ['moni', 99, 76, 54]]\n"
          ]
        }
      ]
    },
    {
      "cell_type": "code",
      "source": [
        "h=[[\"alice\",\"reading\",\"cycling\"],[\"bob\",\"drawing\",\"football\"],[\"carol\",\"reading\",\"swimming\"],[\"david\",\"cycling\",\"gaming\"]]\n",
        "unique_h=set()\n",
        "for i in h:\n",
        "  name=i[0]\n",
        "  hobby=i[1:]\n",
        "  unique_h.update(hobby)\n",
        "for hobby in unique_h:\n",
        "  print(hobby)"
      ],
      "metadata": {
        "colab": {
          "base_uri": "https://localhost:8080/"
        },
        "id": "BvXPYASzMAe5",
        "outputId": "d66ef083-5b7b-450b-a046-16975788fa81"
      },
      "execution_count": null,
      "outputs": [
        {
          "output_type": "stream",
          "name": "stdout",
          "text": [
            "football\n",
            "cycling\n",
            "swimming\n",
            "gaming\n",
            "drawing\n",
            "reading\n"
          ]
        }
      ]
    },
    {
      "cell_type": "code",
      "source": [
        "h = [[\"alice\", \"reading\", \"cycling\"],[\"bob\", \"drawing\", \"football\"],[\"carol\", \"reading\", \"swimming\"],[\"david\", \"cycling\", \"gaming\"]]\n",
        "unique_h = []\n",
        "for i in h:\n",
        "    name = i[0]\n",
        "    hobbies = i[1:]\n",
        "    for hobby in hobbies:\n",
        "        if hobby not in unique_h:\n",
        "            unique_h.append(hobby)\n",
        "for hobby in unique_h:\n",
        "    print(hobby)\n"
      ],
      "metadata": {
        "colab": {
          "base_uri": "https://localhost:8080/"
        },
        "id": "JK-eR_n8qz_J",
        "outputId": "8ea09fe1-da7f-4544-c318-7638f780e8ce"
      },
      "execution_count": null,
      "outputs": [
        {
          "output_type": "stream",
          "name": "stdout",
          "text": [
            "reading\n",
            "cycling\n",
            "drawing\n",
            "football\n",
            "swimming\n",
            "gaming\n"
          ]
        }
      ]
    },
    {
      "cell_type": "code",
      "source": [
        "h=[[\"alice\",\"reading\",\"cycling\"],[\"bob\",\"drawing\",\"football\"],[\"carol\",\"reading\",\"swimming\"],[\"david\",\"cycling\",\"gaming\"]]\n",
        "a=[]\n",
        "for i in h:\n",
        "  name=i[0]\n",
        "  hobby=i[1:]\n",
        "  if \"reading\" in hobby:\n",
        "    a.append(name)\n",
        "print(len(a))"
      ],
      "metadata": {
        "id": "_Sl_fzm5cse-",
        "colab": {
          "base_uri": "https://localhost:8080/"
        },
        "outputId": "25789036-6204-4950-cef5-96819740b28d"
      },
      "execution_count": null,
      "outputs": [
        {
          "output_type": "stream",
          "name": "stdout",
          "text": [
            "2\n"
          ]
        }
      ]
    },
    {
      "cell_type": "code",
      "source": [
        "h=[[\"alice\",\"reading\",\"cycling\"],[\"bob\",\"drawing\",\"football\"],[\"carol\",\"reading\",\"swimming\"],[\"david\",\"cycling\",\"gaming\"]]\n",
        "for i in h:\n",
        "  name=i[0]\n",
        "  hobby=i[1:]\n",
        "  for j in i:\n",
        "    if (j==\"reading\") or (j==\"cycling\"):\n",
        "      print(name)"
      ],
      "metadata": {
        "colab": {
          "base_uri": "https://localhost:8080/"
        },
        "id": "m6oGDC9euLNo",
        "outputId": "2659b4a0-17d9-43df-ce0a-415f3cc66616"
      },
      "execution_count": null,
      "outputs": [
        {
          "output_type": "stream",
          "name": "stdout",
          "text": [
            "alice\n",
            "alice\n",
            "carol\n",
            "david\n"
          ]
        }
      ]
    },
    {
      "cell_type": "code",
      "source": [
        "h=[[\"alice\",\"reading\",\"cycling\"],[\"bob\",\"drawing\",\"football\"],[\"carol\",\"reading\",\"swimming\"],[\"david\",\"cycling\",\"gaming\"]]\n",
        "dict_h={}\n",
        "for i in h:\n",
        "  name=i[0]\n",
        "  hobby=i[1:]\n",
        "  dict_h[name]=hobby\n",
        "print(dict_h)"
      ],
      "metadata": {
        "id": "PPjsdgnEyOkC",
        "colab": {
          "base_uri": "https://localhost:8080/"
        },
        "outputId": "ccb041f4-764e-4967-960c-d80cc35edca0"
      },
      "execution_count": null,
      "outputs": [
        {
          "output_type": "stream",
          "name": "stdout",
          "text": [
            "{'alice': ['reading', 'cycling'], 'bob': ['drawing', 'football'], 'carol': ['reading', 'swimming'], 'david': ['cycling', 'gaming']}\n"
          ]
        }
      ]
    },
    {
      "cell_type": "code",
      "source": [
        "sales=[[\"rice\",120,130,125],[\"wheat\",100,90,95],[\"oil\",80,85,90],[\"sugar\",110,115,105]]\n",
        "for i in sales:\n",
        "  name=i[0]\n",
        "  s=i[1:]\n",
        "  ss=sum(i[1:])\n",
        "  print(f\"total sales of {name}={ss}\")"
      ],
      "metadata": {
        "colab": {
          "base_uri": "https://localhost:8080/"
        },
        "id": "jRoY18Go5J1t",
        "outputId": "fa62d6da-b534-40d8-db24-bbc8aa241616"
      },
      "execution_count": null,
      "outputs": [
        {
          "output_type": "stream",
          "name": "stdout",
          "text": [
            "total sales of rice=375\n",
            "total sales of wheat=285\n",
            "total sales of oil=255\n",
            "total sales of sugar=330\n"
          ]
        }
      ]
    },
    {
      "cell_type": "code",
      "source": [
        "sales=[[\"rice\",120,130,125],[\"wheat\",100,90,95],[\"oil\",80,85,90],[\"sugar\",110,115,105]]\n",
        "max_s=0\n",
        "name=\" \"\n",
        "for i in sales:\n",
        "  m_s=i[3]\n",
        "  if m_s>max_s:\n",
        "    max_s=m_s\n",
        "    name=i[0]\n",
        "print(f\"product with highest sales in march : {name} {max_s}\")"
      ],
      "metadata": {
        "colab": {
          "base_uri": "https://localhost:8080/"
        },
        "id": "6zuS3yfd_mDQ",
        "outputId": "8db32dae-1889-4bc5-a59e-482709e15de1"
      },
      "execution_count": null,
      "outputs": [
        {
          "output_type": "stream",
          "name": "stdout",
          "text": [
            "product with highest sales in march : rice 125\n"
          ]
        }
      ]
    },
    {
      "cell_type": "code",
      "source": [
        "sales=[[\"rice\",120,130,125],[\"wheat\",100,90,95],[\"oil\",80,85,90],[\"sugar\",110,115,105]]\n",
        "t_j_s=0\n",
        "t_f_s=0\n",
        "t_m_s=0\n",
        "for i in sales:\n",
        "  j_s=i[1]\n",
        "  f_s=i[2]\n",
        "  m_s=i[3]\n",
        "  t_j_s += j_s\n",
        "  t_f_s += f_s\n",
        "  t_m_s += m_s\n",
        "print(f\"sales in jan:{t_j_s}\")\n",
        "print(f\"sales in feb:{t_f_s}\")\n",
        "print(f\"sales in mar:{t_m_s}\")"
      ],
      "metadata": {
        "colab": {
          "base_uri": "https://localhost:8080/"
        },
        "id": "DfX1aFgvQQAY",
        "outputId": "e1d526ab-872c-49ff-b54d-e35306e59e77"
      },
      "execution_count": null,
      "outputs": [
        {
          "output_type": "stream",
          "name": "stdout",
          "text": [
            "sales in jan:,410\n",
            "sales in feb:420\n",
            "sales in mar:,415\n"
          ]
        }
      ]
    },
    {
      "cell_type": "code",
      "source": [
        "sales=[[\"rice\",120,130,125],[\"wheat\",100,90,95],[\"oil\",80,85,90],[\"sugar\",110,115,105]]\n",
        "dict_sales={}\n",
        "for i in sales:\n",
        "  name=i[0]\n",
        "  s=i[1:]\n",
        "  dict_sales[name]=s\n",
        "print(dict_sales)"
      ],
      "metadata": {
        "colab": {
          "base_uri": "https://localhost:8080/"
        },
        "id": "KCiA4mAuUzlE",
        "outputId": "62cea10c-1e68-48fb-b731-382f44b677cf"
      },
      "execution_count": null,
      "outputs": [
        {
          "output_type": "stream",
          "name": "stdout",
          "text": [
            "{'rice': [120, 130, 125], 'wheat': [100, 90, 95], 'oil': [80, 85, 90], 'sugar': [110, 115, 105]}\n"
          ]
        }
      ]
    },
    {
      "cell_type": "code",
      "source": [
        "books=[[\"wings of fire\",\"a.p.j.abdul kalam\",\"biography\"],[\"1984\",\"george orwell\",\"fiction\"],[\"the alchemist\",\"paulocoelho\",\"fiction\"],[\"zero to one\",\"peter theil\",\"business\"]]\n",
        "for i in books:\n",
        "  name=i[0]\n",
        "  genre=i[2]\n",
        "  if (genre==\"fiction\"):\n",
        "    print(name)"
      ],
      "metadata": {
        "colab": {
          "base_uri": "https://localhost:8080/"
        },
        "id": "OriV2MCPUz2b",
        "outputId": "168b213f-ed6b-4095-f5b3-4e99b1c0b866"
      },
      "execution_count": null,
      "outputs": [
        {
          "output_type": "stream",
          "name": "stdout",
          "text": [
            "1984\n",
            "the alchemist\n"
          ]
        }
      ]
    },
    {
      "cell_type": "code",
      "source": [
        "books=[[\"wings_of_fire\",\"kalam\",\"biography\"],[\"1984\",\"george_orwell\",\"fiction\"],[\"the_alchemist\",\"paulocoelho\",\"fiction\"],[\"zero_to_one\",\"peter_theil\",\"business\"]]\n",
        "unique_b=set()\n",
        "for i in books:\n",
        "  aut=i[1]\n",
        "  unique_b.add(aut)\n",
        "for aut in unique_b:\n",
        "  print(aut)"
      ],
      "metadata": {
        "colab": {
          "base_uri": "https://localhost:8080/"
        },
        "id": "K7mE1R--YO9q",
        "outputId": "dd624d54-a8d9-46b4-e047-06246ee4a645"
      },
      "execution_count": null,
      "outputs": [
        {
          "output_type": "stream",
          "name": "stdout",
          "text": [
            "peter_theil\n",
            "paulocoelho\n",
            "kalam\n",
            "george_orwell\n"
          ]
        }
      ]
    },
    {
      "cell_type": "code",
      "source": [
        "books=[[\"wings of fire\",\"a.p.j.abdul kalam\",\"biography\"],[\"1984\",\"george orwell\",\"fiction\"],[\"the alchemist\",\"paulocoelho\",\"fiction\"],[\"zero to one\",\"peter theil\",\"business\"]]\n",
        "a=[]\n",
        "b=[]\n",
        "c=[]\n",
        "for i in books:\n",
        "  genre=i[2]\n",
        "  if genre==\"biography\":\n",
        "    a.append(genre)\n",
        "  if genre==\"fiction\":\n",
        "    b.append(genre)\n",
        "  if genre==\"business\":\n",
        "    c.append(genre)\n",
        "print(f\"books in biography={len(a)}\")\n",
        "print(f\"books in fiction={len(b)}\")\n",
        "print(f\"books in business={len(c)}\")"
      ],
      "metadata": {
        "colab": {
          "base_uri": "https://localhost:8080/"
        },
        "id": "wCxnvzWMcnZt",
        "outputId": "48bf3363-22b9-4db3-c5c8-ed8ca497ee53"
      },
      "execution_count": null,
      "outputs": [
        {
          "output_type": "stream",
          "name": "stdout",
          "text": [
            "books in biography=1\n",
            "books in fiction=2\n",
            "books in business=1\n"
          ]
        }
      ]
    },
    {
      "cell_type": "code",
      "source": [
        "books=[[\"wings of fire\",\"a.p.j.abdul kalam\",\"biography\"],[\"1984\",\"george orwell\",\"fiction\"],[\"the alchemist\",\"paulocoelho\",\"fiction\"],[\"zero to one\",\"peter theil\",\"business\"]]\n",
        "dict_books={}\n",
        "for i in books:\n",
        "  name=i[0]\n",
        "  aut=i[1]\n",
        "  genre=i[2]\n",
        "  dict_books['title']=name\n",
        "  dict_books['aut']=aut\n",
        "  dict_books['genre']=genre\n",
        "  print(dict_books)"
      ],
      "metadata": {
        "colab": {
          "base_uri": "https://localhost:8080/"
        },
        "id": "ZFExWq-qgCJD",
        "outputId": "d8dd806c-3882-464d-a922-fb26d62cb55c"
      },
      "execution_count": null,
      "outputs": [
        {
          "output_type": "stream",
          "name": "stdout",
          "text": [
            "{'title': 'wings of fire', 'aut': 'a.p.j.abdul kalam', 'genre': 'biography'}\n",
            "{'title': '1984', 'aut': 'george orwell', 'genre': 'fiction'}\n",
            "{'title': 'the alchemist', 'aut': 'paulocoelho', 'genre': 'fiction'}\n",
            "{'title': 'zero to one', 'aut': 'peter theil', 'genre': 'business'}\n"
          ]
        }
      ]
    },
    {
      "cell_type": "code",
      "source": [
        "import numpy as np\n",
        "a=[1,2,3]\n",
        "b=np.average(a)\n",
        "print(b)"
      ],
      "metadata": {
        "colab": {
          "base_uri": "https://localhost:8080/"
        },
        "id": "Pho_KBxJy4Ql",
        "outputId": "ea8a4f98-433b-400d-a270-c55fd3303eb8"
      },
      "execution_count": null,
      "outputs": [
        {
          "output_type": "stream",
          "name": "stdout",
          "text": [
            "2.0\n"
          ]
        }
      ]
    },
    {
      "cell_type": "code",
      "source": [
        "def avg(x):\n",
        "  a=sum(x)/len(x)\n",
        "  return(a)\n",
        "l=[1,2,3]\n",
        "a1=avg(l)\n",
        "print(a1)"
      ],
      "metadata": {
        "colab": {
          "base_uri": "https://localhost:8080/"
        },
        "id": "9rcspxoBzz-y",
        "outputId": "2d6d1238-b739-4ada-933c-10330c4ec9b8"
      },
      "execution_count": null,
      "outputs": [
        {
          "output_type": "stream",
          "name": "stdout",
          "text": [
            "2.0\n"
          ]
        }
      ]
    },
    {
      "cell_type": "code",
      "source": [
        "emp=[[\"arun\",\"python\",\"sql\",\"excel\"],[\"divya\",\"tableau\",\"python\",\"power bi\"],[\"rahul\",\"excel\",\"communication\",\"sql\"],[\"meena\",\"python\",\"ml\",\"dl\"]]\n",
        "for i in emp:\n",
        "  name=i[0]\n",
        "  skills=i[1:]\n",
        "  if ('python' in skills):\n",
        "    print(f\"name of employees skilled with python are {name}\")"
      ],
      "metadata": {
        "id": "Xj99buby2LOY",
        "colab": {
          "base_uri": "https://localhost:8080/"
        },
        "outputId": "d12b500c-ebf8-4206-eb5c-fe28b233e876"
      },
      "execution_count": null,
      "outputs": [
        {
          "output_type": "stream",
          "name": "stdout",
          "text": [
            "name of employees skilled with python are arun\n",
            "name of employees skilled with python are divya\n",
            "name of employees skilled with python are meena\n"
          ]
        }
      ]
    },
    {
      "cell_type": "code",
      "source": [
        "emp=[[\"arun\",\"python\",\"sql\",\"excel\"],[\"divya\",\"tableau\",\"python\",\"power bi\"],[\"rahul\",\"excel\",\"communication\",\"sql\"],[\"meena\",\"python\",\"ml\",\"dl\"]]\n",
        "skill_count={}\n",
        "for i in emp:\n",
        "  skills=i[1:]\n",
        "  for skill in skills:\n",
        "    if skill in skill_count:\n",
        "      skill_count[skill]+=1\n",
        "    else:\n",
        "      skill_count[skill]=1\n",
        "for skill,count in skill_count.items():\n",
        "  print(f\"{skill} : {count}\")"
      ],
      "metadata": {
        "colab": {
          "base_uri": "https://localhost:8080/"
        },
        "id": "tNJIJ0nc5yaG",
        "outputId": "13f17304-d504-4a83-a63f-6e365acd61f2"
      },
      "execution_count": null,
      "outputs": [
        {
          "output_type": "stream",
          "name": "stdout",
          "text": [
            "python : 3\n",
            "sql : 2\n",
            "excel : 2\n",
            "tableau : 1\n",
            "power bi : 1\n",
            "communication : 1\n",
            "ml : 1\n",
            "dl : 1\n"
          ]
        }
      ]
    },
    {
      "cell_type": "code",
      "source": [
        "emp=[[\"arun\",\"python\",\"sql\",\"excel\"],[\"divya\",\"tableau\",\"python\",\"power bi\"],[\"rahul\",\"excel\",\"communication\",\"sql\"],[\"meena\",\"python\",\"ml\",\"dl\"]]\n",
        "s_i=[]\n",
        "for i in range(4):\n",
        "  n = emp[i][0]\n",
        "  for j in range(1,4):\n",
        "    s=emp[i][j]\n",
        "    found=0\n",
        "    for k in range(len(s_i)):\n",
        "      if s_i[k][0]== s:\n",
        "        s_i[k][1].append(n)\n",
        "        found=1\n",
        "    if found == 0:\n",
        "      s_i.append([s , [n]])\n",
        "print(s_i)"
      ],
      "metadata": {
        "colab": {
          "base_uri": "https://localhost:8080/"
        },
        "id": "D9wGCsLV-mSl",
        "outputId": "296d1916-8fae-4981-aade-f3c2ed76d13b"
      },
      "execution_count": null,
      "outputs": [
        {
          "output_type": "stream",
          "name": "stdout",
          "text": [
            "[['python', ['arun', 'divya', 'meena']], ['sql', ['arun', 'rahul']], ['excel', ['arun', 'rahul']], ['tableau', ['divya']], ['power bi', ['divya']], ['communication', ['rahul']], ['ml', ['meena']], ['dl', ['meena']]]\n"
          ]
        }
      ]
    },
    {
      "cell_type": "code",
      "source": [
        "emp=[[\"arun\",\"python\",\"sql\",\"excel\"],[\"divya\",\"tableau\",\"python\",\"power bi\"],[\"rahul\",\"excel\",\"communication\",\"sql\"],[\"meena\",\"python\",\"ml\",\"dl\"]]\n",
        "for i in emp:\n",
        "  name=i[0]\n",
        "  skills=i[1:]\n",
        "  if ('python' in skills) and ('sql' in skills):\n",
        "    if('excel' in skills):\n",
        "      print(name)"
      ],
      "metadata": {
        "colab": {
          "base_uri": "https://localhost:8080/"
        },
        "id": "83m68_eNZl2X",
        "outputId": "8b842c2b-c0d5-4e83-b6c9-7074670478b7"
      },
      "execution_count": null,
      "outputs": [
        {
          "output_type": "stream",
          "name": "stdout",
          "text": [
            "arun\n"
          ]
        }
      ]
    },
    {
      "cell_type": "code",
      "source": [
        "p=[[\"p101\",\"arun\",1200,\"booked\"],[\"p102\",\"divya\",1500,\"available\"],[\"p103\",\"meena\",1000,\"booked\"],[\"p104\",\"none\",1300,\"available\"]]\n",
        "a=[]\n",
        "for i in p:\n",
        "  name=i[1]\n",
        "  sts=i[3]\n",
        "  if (sts==\"booked\"):\n",
        "    a.append(name)\n",
        "print(len(a))"
      ],
      "metadata": {
        "colab": {
          "base_uri": "https://localhost:8080/"
        },
        "id": "_mwg_UBvd7dg",
        "outputId": "bc955faf-ddc3-4938-9743-a24b8434d8d0"
      },
      "execution_count": null,
      "outputs": [
        {
          "output_type": "stream",
          "name": "stdout",
          "text": [
            "2\n"
          ]
        }
      ]
    },
    {
      "cell_type": "code",
      "source": [
        "p=[[\"p101\",\"arun\",1200,\"booked\"],[\"p102\",\"divya\",1500,\"available\"],[\"p103\",\"meena\",1000,\"booked\"],[\"p104\",\"none\",1300,\"available\"]]\n",
        "for i in p:\n",
        "  name=i[1]\n",
        "  sts=i[3]\n",
        "  if (sts==\"available\"):\n",
        "    print(name)"
      ],
      "metadata": {
        "colab": {
          "base_uri": "https://localhost:8080/"
        },
        "id": "vPOxeqpSf8Us",
        "outputId": "dbc9b78e-2d5b-410d-a6a3-489b38361655"
      },
      "execution_count": null,
      "outputs": [
        {
          "output_type": "stream",
          "name": "stdout",
          "text": [
            "divya\n",
            "none\n"
          ]
        }
      ]
    },
    {
      "cell_type": "code",
      "source": [
        "p=[[\"p101\",\"arun\",1200,\"booked\"],[\"p102\",\"divya\",1500,\"available\"],[\"p103\",\"meena\",1000,\"booked\"],[\"p104\",\"none\",1300,\"available\"]]\n",
        "for i in p:\n",
        "  name=i[1]\n",
        "  id=i[0]\n",
        "  sts=i[3]\n",
        "  if (sts==\"booked\"):\n",
        "    print(name,id)"
      ],
      "metadata": {
        "colab": {
          "base_uri": "https://localhost:8080/"
        },
        "id": "CSCPRW3Uidac",
        "outputId": "f9b4395f-94d1-42a3-bd80-ffc463e6640f"
      },
      "execution_count": null,
      "outputs": [
        {
          "output_type": "stream",
          "name": "stdout",
          "text": [
            "arun p101\n",
            "meena p103\n"
          ]
        }
      ]
    },
    {
      "cell_type": "code",
      "source": [
        "p=[[\"p101\",\"arun\",1200,\"booked\"],[\"p102\",\"divya\",1500,\"available\"],[\"p103\",\"meena\",1000,\"booked\"],[\"p104\",\"none\",1300,\"available\"]]\n",
        "p.append([\"p105\",\"moni\",2000,\"booked\"])\n",
        "print(p)"
      ],
      "metadata": {
        "colab": {
          "base_uri": "https://localhost:8080/"
        },
        "id": "kYw_Ln-NGKFS",
        "outputId": "dfa1a361-06c9-44cf-c05b-a26922d2397e"
      },
      "execution_count": null,
      "outputs": [
        {
          "output_type": "stream",
          "name": "stdout",
          "text": [
            "[['p101', 'arun', 1200, 'booked'], ['p102', 'divya', 1500, 'available'], ['p103', 'meena', 1000, 'booked'], ['p104', 'none', 1300, 'available'], ['p105', 'moni', 2000, 'booked']]\n"
          ]
        }
      ]
    },
    {
      "cell_type": "code",
      "source": [
        "pymnt=[[\"arun\",6000000,3000000,3000000],[\"divya\",750000,750000,0],[\"meena\",5000000,1000000,4000000],[\"kumar\",9000000,6000000,3000000]]\n",
        "for i in pymnt:\n",
        "  name=i[0]\n",
        "  due=i[3]\n",
        "  if (due>0):\n",
        "    print(name)"
      ],
      "metadata": {
        "colab": {
          "base_uri": "https://localhost:8080/"
        },
        "id": "55LQV46XGyVZ",
        "outputId": "37950a3d-052f-4e4d-8ab6-52ef49869bea"
      },
      "execution_count": null,
      "outputs": [
        {
          "output_type": "stream",
          "name": "stdout",
          "text": [
            "arun\n",
            "meena\n",
            "kumar\n"
          ]
        }
      ]
    },
    {
      "cell_type": "code",
      "source": [
        "def p(x):\n",
        "  tot=x[1]\n",
        "  paid=x[2]\n",
        "  percent=(paid/tot)*100\n",
        "  return (percent)\n",
        "pymnt=[[\"arun\",6000000,3000000,3000000],[\"divya\",750000,750000,0],[\"meena\",5000000,1000000,4000000],[\"kumar\",9000000,6000000,3000000]]\n",
        "for i in pymnt:\n",
        "  name=i[0]\n",
        "  percent= p(i)\n",
        "  print(f\"{name} has paid {percent: .2f}% of total amount\")"
      ],
      "metadata": {
        "colab": {
          "base_uri": "https://localhost:8080/"
        },
        "id": "WaReMFVyIBpg",
        "outputId": "a5880619-146d-4eaf-b3a3-359d128e6fe5"
      },
      "execution_count": null,
      "outputs": [
        {
          "output_type": "stream",
          "name": "stdout",
          "text": [
            "arun has paid  50.00% of total amount\n",
            "divya has paid  100.00% of total amount\n",
            "meena has paid  20.00% of total amount\n",
            "kumar has paid  66.67% of total amount\n"
          ]
        }
      ]
    },
    {
      "cell_type": "code",
      "source": [
        "pymnt=[[\"arun\",6000000,3000000,3000000],[\"divya\",750000,750000,0],[\"meena\",5000000,1000000,4000000],[\"kumar\",9000000,6000000,3000000]]\n",
        "for i in pymnt:\n",
        "  name=i[0]\n",
        "  due=i[3]\n",
        "  if (due==0):\n",
        "    print(name)\n"
      ],
      "metadata": {
        "colab": {
          "base_uri": "https://localhost:8080/"
        },
        "id": "eoz46qdMN5Bx",
        "outputId": "bb6d5be8-fc5c-434c-8671-50cf0d49857f"
      },
      "execution_count": null,
      "outputs": [
        {
          "output_type": "stream",
          "name": "stdout",
          "text": [
            "divya\n"
          ]
        }
      ]
    },
    {
      "cell_type": "code",
      "source": [
        "pymnt=[[\"arun\",6000000,3000000,3000000],[\"divya\",750000,750000,0],[\"meena\",5000000,1000000,4000000],[\"kumar\",9000000,6000000,3000000]]\n",
        "def u_pymnt(name,new_p):\n",
        "  for i in pymnt:\n",
        "    if name==i[0]:\n",
        "      tot=i[1]\n",
        "      i[2]+=new_p\n",
        "      i[3]=tot-i[2]\n",
        "      print(name)\n",
        "      return\n",
        "u_pymnt(\"arun\",2000000)\n",
        "for i in pymnt:\n",
        "  print(i)"
      ],
      "metadata": {
        "colab": {
          "base_uri": "https://localhost:8080/"
        },
        "id": "_okkhYhevV3y",
        "outputId": "00bf113d-06be-4218-c271-d5597f7c7be5"
      },
      "execution_count": null,
      "outputs": [
        {
          "output_type": "stream",
          "name": "stdout",
          "text": [
            "arun\n",
            "['arun', 6000000, 5000000, 1000000]\n",
            "['divya', 750000, 750000, 0]\n",
            "['meena', 5000000, 1000000, 4000000]\n",
            "['kumar', 9000000, 6000000, 3000000]\n"
          ]
        }
      ]
    },
    {
      "cell_type": "code",
      "source": [
        "p_info=[[\"p101\",\"north layout\",\"east\"],[\"p102\",\"north layout\",\"west\"],[\"p103\",\"south layout\",\"north\"],[\"p104\",\"east layout\",\"east\"]]\n",
        "for i in p_info:\n",
        "  loc=i[1]\n",
        "  id=i[0]\n",
        "  if (loc==\"north layout\"):\n",
        "    print(id)"
      ],
      "metadata": {
        "colab": {
          "base_uri": "https://localhost:8080/"
        },
        "id": "GpABJyCXOWoQ",
        "outputId": "5a246849-be15-4ed1-f570-cde996870c92"
      },
      "execution_count": null,
      "outputs": [
        {
          "output_type": "stream",
          "name": "stdout",
          "text": [
            "p101\n",
            "p102\n"
          ]
        }
      ]
    },
    {
      "cell_type": "code",
      "source": [
        "p_info=[[\"p101\",\"north layout\",\"east\"],[\"p102\",\"north layout\",\"west\"],[\"p103\",\"south layout\",\"north\"],[\"p104\",\"east layout\",\"east\"]]\n",
        "a=[]\n",
        "for i in p_info:\n",
        "  id=i[0]\n",
        "  dir=i[2]\n",
        "  if (dir==\"east\"):\n",
        "    a.append(id)\n",
        "print(len(a))\n"
      ],
      "metadata": {
        "id": "aA9p5tSvRju-",
        "colab": {
          "base_uri": "https://localhost:8080/"
        },
        "outputId": "6d83629f-fd38-4f26-ce90-e10237927240"
      },
      "execution_count": null,
      "outputs": [
        {
          "output_type": "stream",
          "name": "stdout",
          "text": [
            "2\n"
          ]
        }
      ]
    },
    {
      "cell_type": "code",
      "source": [
        "p_info=[[\"p101\",\"north layout\",\"east\"],[\"p102\",\"north layout\",\"west\"],[\"p103\",\"south layout\",\"north\"],[\"p104\",\"east layout\",\"east\"]]\n",
        "for i in p_info:\n",
        "  id=i[0]\n",
        "  loc=i[1]\n",
        "  dir=i[2]\n",
        "  p_id=input(\"enter the id : \")\n",
        "  if (p_id==id):\n",
        "    print(id , loc , dir)"
      ],
      "metadata": {
        "colab": {
          "base_uri": "https://localhost:8080/"
        },
        "id": "3w1KTMXOlhge",
        "outputId": "663ad0dc-0938-47f6-ca66-f1d4d0d219bb"
      },
      "execution_count": null,
      "outputs": [
        {
          "name": "stdout",
          "output_type": "stream",
          "text": [
            "enter the id : p101\n",
            "p101 north layout east\n",
            "enter the id : p102\n",
            "p102 north layout west\n",
            "enter the id : p103\n",
            "p103 south layout north\n",
            "enter the id : p1o4\n"
          ]
        }
      ]
    },
    {
      "cell_type": "code",
      "source": [
        "p_info=[[\"p101\",\"north layout\",\"east\"],[\"p102\",\"north layout\",\"west\"],[\"p103\",\"south layout\",\"north\"],[\"p104\",\"east layout\",\"east\"]]\n",
        "ll={}\n",
        "for i in p_info:\n",
        "  id=i[0]\n",
        "  l=i[1]\n",
        "  if l not in ll:\n",
        "    ll[l]= []\n",
        "  ll[l].append(id)\n",
        "for l,i in ll.items():\n",
        "  print(f\"{l}: {i}\")\n",
        "\n"
      ],
      "metadata": {
        "colab": {
          "base_uri": "https://localhost:8080/"
        },
        "id": "RIgWF1hy21u_",
        "outputId": "fc25e2a7-d7a2-4ccc-941e-fb94ded44a11"
      },
      "execution_count": null,
      "outputs": [
        {
          "output_type": "stream",
          "name": "stdout",
          "text": [
            "north layout: ['p101', 'p102']\n",
            "south layout: ['p103']\n",
            "east layout: ['p104']\n"
          ]
        }
      ]
    }
  ]
}