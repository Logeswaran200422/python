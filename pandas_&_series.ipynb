{
  "nbformat": 4,
  "nbformat_minor": 0,
  "metadata": {
    "colab": {
      "provenance": [],
      "authorship_tag": "ABX9TyPx8xXqU4WnqoglGC2aCWRe",
      "include_colab_link": true
    },
    "kernelspec": {
      "name": "python3",
      "display_name": "Python 3"
    },
    "language_info": {
      "name": "python"
    }
  },
  "cells": [
    {
      "cell_type": "markdown",
      "metadata": {
        "id": "view-in-github",
        "colab_type": "text"
      },
      "source": [
        "<a href=\"https://colab.research.google.com/github/Logeswaran200422/python/blob/main/pandas_%26_series.ipynb\" target=\"_parent\"><img src=\"https://colab.research.google.com/assets/colab-badge.svg\" alt=\"Open In Colab\"/></a>"
      ]
    },
    {
      "cell_type": "code",
      "execution_count": null,
      "metadata": {
        "colab": {
          "base_uri": "https://localhost:8080/"
        },
        "id": "1J1d7YcTSCl-",
        "outputId": "b6131aef-6114-43b5-d01e-198aa895c902"
      },
      "outputs": [
        {
          "output_type": "stream",
          "name": "stdout",
          "text": [
            "0    banana\n",
            "1    melons\n",
            "2     lichi\n",
            "3     apple\n",
            "4       goa\n",
            "dtype: object\n"
          ]
        }
      ],
      "source": [
        "import pandas as pd\n",
        "a=[\"banana\",\"melons\",\"lichi\",\"apple\",\"goa\"]\n",
        "print(pd.Series(a))"
      ]
    },
    {
      "cell_type": "code",
      "source": [
        "import pandas as pd\n",
        "a=[2,4,6]\n",
        "print(pd.Series(sum(a)))"
      ],
      "metadata": {
        "colab": {
          "base_uri": "https://localhost:8080/"
        },
        "id": "_w8K7J-YTf-z",
        "outputId": "915fdf57-b126-4c54-8cf6-9564d74755c4"
      },
      "execution_count": null,
      "outputs": [
        {
          "output_type": "stream",
          "name": "stdout",
          "text": [
            "0    12\n",
            "dtype: int64\n"
          ]
        }
      ]
    },
    {
      "cell_type": "code",
      "source": [
        "import pandas as pd\n",
        "a={\"mat\":90,\"eng\":87,\"sci\":65}\n",
        "print(pd.Series(a))"
      ],
      "metadata": {
        "colab": {
          "base_uri": "https://localhost:8080/"
        },
        "id": "hmIahix_UQYv",
        "outputId": "9a440884-dc8c-43f9-f4df-98ddccc91c13"
      },
      "execution_count": null,
      "outputs": [
        {
          "output_type": "stream",
          "name": "stdout",
          "text": [
            "mat    90\n",
            "eng    87\n",
            "sci    65\n",
            "dtype: int64\n"
          ]
        }
      ]
    },
    {
      "cell_type": "code",
      "source": [
        "import pandas as pd\n",
        "a=[\"mat\",\"eng\",\"sci\"]\n",
        "b=[90,87,65]\n",
        "print(pd.Series((max(b),min(b))))"
      ],
      "metadata": {
        "colab": {
          "base_uri": "https://localhost:8080/"
        },
        "id": "WqGJfjR7VCnz",
        "outputId": "a1c78670-16ca-4c0f-acb0-95aa93bbccf2"
      },
      "execution_count": null,
      "outputs": [
        {
          "output_type": "stream",
          "name": "stdout",
          "text": [
            "0    90\n",
            "1    65\n",
            "dtype: int64\n"
          ]
        }
      ]
    },
    {
      "cell_type": "code",
      "source": [
        "import pandas as pd\n",
        "a={\"india\":\"delhi\",\"nepal\":\"katmandu\",\"pakistan\":\"istanburgh\"}\n",
        "print(pd.Series(a))"
      ],
      "metadata": {
        "colab": {
          "base_uri": "https://localhost:8080/"
        },
        "id": "E_PAv9I8YnXa",
        "outputId": "4bf86dae-af4b-4b3e-b454-ef7f8b11a428"
      },
      "execution_count": null,
      "outputs": [
        {
          "output_type": "stream",
          "name": "stdout",
          "text": [
            "india            delhi\n",
            "nepal         katmandu\n",
            "pakistan    istanburgh\n",
            "dtype: object\n"
          ]
        }
      ]
    },
    {
      "cell_type": "code",
      "source": [
        "import pandas as pd\n",
        "a={\"india\":\"delhi\",\"nepal\":\"katmandu\",\"pakistan\":\"istanburgh\"}\n",
        "print(pd.Series(a[\"india\"]))"
      ],
      "metadata": {
        "colab": {
          "base_uri": "https://localhost:8080/"
        },
        "id": "LfuIdsjChY7w",
        "outputId": "be027e4c-0bbe-4e8f-922f-ed74e596487c"
      },
      "execution_count": null,
      "outputs": [
        {
          "output_type": "stream",
          "name": "stdout",
          "text": [
            "0    delhi\n",
            "dtype: object\n"
          ]
        }
      ]
    },
    {
      "cell_type": "code",
      "source": [
        "import pandas as pd\n",
        "a=[]\n",
        "t=pd.Series([98,70,65,43,21,10,92])\n",
        "for i in t:\n",
        "  if i>30:\n",
        "    a.append(i)\n",
        "print(a)"
      ],
      "metadata": {
        "colab": {
          "base_uri": "https://localhost:8080/"
        },
        "id": "1S3zxhlviUid",
        "outputId": "2d4435f1-c2f6-49eb-dd15-8c6c84207f54"
      },
      "execution_count": null,
      "outputs": [
        {
          "output_type": "stream",
          "name": "stdout",
          "text": [
            "[98, 70, 65, 43, 92]\n"
          ]
        }
      ]
    },
    {
      "cell_type": "code",
      "source": [
        "import pandas as pd\n",
        "a=[]\n",
        "t=pd.Series([98,70,65,43,21,10,92])\n",
        "avg=sum(t)/len(t)\n",
        "print(avg)"
      ],
      "metadata": {
        "colab": {
          "base_uri": "https://localhost:8080/"
        },
        "id": "cSRbnulDqaaA",
        "outputId": "afccdd2a-9322-4787-ed8f-cb7419c4228c"
      },
      "execution_count": null,
      "outputs": [
        {
          "output_type": "stream",
          "name": "stdout",
          "text": [
            "57.0\n"
          ]
        }
      ]
    },
    {
      "cell_type": "code",
      "source": [
        "import pandas as pd\n",
        "a=[1,2,3,4]\n",
        "index=['a','b','c','d']\n",
        "print(pd.Series(a,index))"
      ],
      "metadata": {
        "colab": {
          "base_uri": "https://localhost:8080/"
        },
        "id": "GqsM5QzeM7ay",
        "outputId": "acfee852-9482-4e6d-c899-1ff8959ba8f3"
      },
      "execution_count": null,
      "outputs": [
        {
          "output_type": "stream",
          "name": "stdout",
          "text": [
            "a    1\n",
            "b    2\n",
            "c    3\n",
            "d    4\n",
            "dtype: int64\n"
          ]
        }
      ]
    },
    {
      "cell_type": "code",
      "source": [
        "import pandas as pd\n",
        "a=[['a','b','c'],[1,2,3]]\n",
        "d_type=[type(i) for i in a]\n",
        "print(pd.Series(d_type))"
      ],
      "metadata": {
        "colab": {
          "base_uri": "https://localhost:8080/"
        },
        "id": "ezPr1b4wquwM",
        "outputId": "0ff4432d-29bc-4810-8999-1cec64447180"
      },
      "execution_count": null,
      "outputs": [
        {
          "output_type": "stream",
          "name": "stdout",
          "text": [
            "0    <class 'list'>\n",
            "1    <class 'list'>\n",
            "dtype: object\n"
          ]
        }
      ]
    },
    {
      "cell_type": "markdown",
      "source": [
        "data frame\n"
      ],
      "metadata": {
        "id": "ASXav52ZwPCM"
      }
    },
    {
      "cell_type": "code",
      "source": [
        "import pandas as pd\n",
        "df={\"name\":[\"anu\",\"bob\",\"moni\"],\"age\":[12,34,56]}\n",
        "print(pd.DataFrame(df))"
      ],
      "metadata": {
        "colab": {
          "base_uri": "https://localhost:8080/"
        },
        "id": "ho-Dnww10XON",
        "outputId": "a36e6664-edcd-4403-9b55-a90339e5357d"
      },
      "execution_count": null,
      "outputs": [
        {
          "output_type": "stream",
          "name": "stdout",
          "text": [
            "   name  age\n",
            "0   anu   12\n",
            "1   bob   34\n",
            "2  moni   56\n"
          ]
        }
      ]
    },
    {
      "cell_type": "code",
      "source": [
        "import pandas as pd\n",
        "df={\"name\":[\"anu\",\"bob\",\"moni\"],\"age\":[12,34,56]}\n",
        "df[\"city\"]=[\"chennai\",\"delhi\",\"mumbai\"]\n",
        "print(pd.DataFrame(df))"
      ],
      "metadata": {
        "colab": {
          "base_uri": "https://localhost:8080/"
        },
        "id": "zkgKnj_-4xMK",
        "outputId": "d268d92a-c026-49a4-afa2-4322006cffa7"
      },
      "execution_count": null,
      "outputs": [
        {
          "output_type": "stream",
          "name": "stdout",
          "text": [
            "   name  age     city\n",
            "0   anu   12  chennai\n",
            "1   bob   34    delhi\n",
            "2  moni   56   mumbai\n"
          ]
        }
      ]
    },
    {
      "cell_type": "code",
      "source": [
        "import pandas as pd\n",
        "df={\"name\":[\"anu\",\"bob\",\"moni\"],\"age\":[12,34,56],\"city\":[\"chennai\",\"delhi\",\"mumbai\"]}\n",
        "print(pd.DataFrame(df[\"name\"]))"
      ],
      "metadata": {
        "colab": {
          "base_uri": "https://localhost:8080/"
        },
        "id": "YQUTsl9-yWjJ",
        "outputId": "5b14577d-9f38-478a-c924-05b34867ac59"
      },
      "execution_count": null,
      "outputs": [
        {
          "output_type": "stream",
          "name": "stdout",
          "text": [
            "      0\n",
            "0   anu\n",
            "1   bob\n",
            "2  moni\n"
          ]
        }
      ]
    },
    {
      "cell_type": "code",
      "source": [
        "import pandas as pd\n",
        "df={\"name\":[\"anu\",\"bob\",\"moni\"],\"age\":[12,34,56],\"city\":[\"chennai\",\"delhi\",\"mumbai\"]}\n",
        "for i in df[\"age\"]:\n",
        "  if i>25:\n",
        "    print(i)"
      ],
      "metadata": {
        "colab": {
          "base_uri": "https://localhost:8080/"
        },
        "id": "8loNmrax2u52",
        "outputId": "b8fbe222-84ec-46eb-f7a3-0107eb7f6fab"
      },
      "execution_count": null,
      "outputs": [
        {
          "output_type": "stream",
          "name": "stdout",
          "text": [
            "34\n",
            "56\n"
          ]
        }
      ]
    },
    {
      "cell_type": "code",
      "source": [
        "import pandas as pd\n",
        "df={\"name\":[\"anu\",\"bob\",\"moni\"],\"age\":[12,34,56],\"city\":[\"chennai\",\"delhi\",\"mumbai\"]}\n",
        "df[\"sts\"]=[\"active\",\"active\",\"active\"]\n",
        "print(df)"
      ],
      "metadata": {
        "colab": {
          "base_uri": "https://localhost:8080/"
        },
        "id": "Ejv429WIEOCs",
        "outputId": "7dc11fa6-946b-4a6a-d22d-9fe074ee9446"
      },
      "execution_count": null,
      "outputs": [
        {
          "output_type": "stream",
          "name": "stdout",
          "text": [
            "{'name': ['anu', 'bob', 'moni'], 'age': [12, 34, 56], 'city': ['chennai', 'delhi', 'mumbai'], 'sts': ['active', 'active', 'active']}\n"
          ]
        }
      ]
    },
    {
      "cell_type": "code",
      "source": [
        "import pandas as pd\n",
        "df={\"prod\":[\"a\",\"b\",\"c\"],\"p\":[10,20,30],\"q\":[4,5,6]}\n",
        "print(pd.DataFrame(df))"
      ],
      "metadata": {
        "colab": {
          "base_uri": "https://localhost:8080/"
        },
        "id": "4D2VA1wtFKXL",
        "outputId": "ca953ba9-437c-4fbf-b33d-59a3c78ec3ca"
      },
      "execution_count": null,
      "outputs": [
        {
          "output_type": "stream",
          "name": "stdout",
          "text": [
            "  prod   p  q\n",
            "0    a  10  4\n",
            "1    b  20  5\n",
            "2    c  30  6\n"
          ]
        }
      ]
    },
    {
      "cell_type": "code",
      "source": [
        "import pandas as pd\n",
        "df={\"prod\":[\"a\",\"b\",\"c\"],\"p\":[10,20,30],\"q\":[4,5,6]}\n",
        "df = pd.DataFrame(df)\n",
        "df[\"tot\"] = df[\"p\"] * df[\"q\"]\n",
        "print(df)"
      ],
      "metadata": {
        "colab": {
          "base_uri": "https://localhost:8080/"
        },
        "id": "2cm3j9l9FccE",
        "outputId": "a3a68f2e-cbd8-4261-9339-7d30504f7698"
      },
      "execution_count": null,
      "outputs": [
        {
          "output_type": "stream",
          "name": "stdout",
          "text": [
            "  prod   p  q  tot\n",
            "0    a  10  4   40\n",
            "1    b  20  5  100\n",
            "2    c  30  6  180\n"
          ]
        }
      ]
    },
    {
      "cell_type": "code",
      "source": [
        "import pandas as pd\n",
        "df={\"prod\":[\"a\",\"b\",\"c\"],\"p\":[10,20,30],\"q\":[4,5,6],\"tot\":[40,100,180]}\n",
        "df=pd.DataFrame(df)\n",
        "print(df.describe())"
      ],
      "metadata": {
        "colab": {
          "base_uri": "https://localhost:8080/"
        },
        "id": "V3BtRbYAIbE1",
        "outputId": "783be131-d96e-4aa4-9fa2-f58a1fd03b36"
      },
      "execution_count": null,
      "outputs": [
        {
          "output_type": "stream",
          "name": "stdout",
          "text": [
            "          p    q         tot\n",
            "count   3.0  3.0    3.000000\n",
            "mean   20.0  5.0  106.666667\n",
            "std    10.0  1.0   70.237692\n",
            "min    10.0  4.0   40.000000\n",
            "25%    15.0  4.5   70.000000\n",
            "50%    20.0  5.0  100.000000\n",
            "75%    25.0  5.5  140.000000\n",
            "max    30.0  6.0  180.000000\n"
          ]
        }
      ]
    },
    {
      "cell_type": "code",
      "source": [
        "import pandas as pd\n",
        "a=[[1,'anu',2],[3,'anil',4],[5,'bob']]\n",
        "column=['id','name','age']\n",
        "df=pd.DataFrame(a,columns=column)\n",
        "print(df)"
      ],
      "metadata": {
        "colab": {
          "base_uri": "https://localhost:8080/"
        },
        "id": "zyMj07GVR0NR",
        "outputId": "c8e37229-99f5-4e33-8eab-cdde419f07c6"
      },
      "execution_count": null,
      "outputs": [
        {
          "output_type": "stream",
          "name": "stdout",
          "text": [
            "   id  name  age\n",
            "0   1   anu  2.0\n",
            "1   3  anil  4.0\n",
            "2   5   bob  NaN\n"
          ]
        }
      ]
    },
    {
      "cell_type": "code",
      "source": [
        "import pandas as pd\n",
        "a=[['apple',10],['banana',20],['melon',30]]\n",
        "columns=['fruits','price']\n",
        "df=pd.DataFrame(a,columns=columns)\n",
        "df=df.sort_values(by='price',ascending=False)\n",
        "print(df)"
      ],
      "metadata": {
        "colab": {
          "base_uri": "https://localhost:8080/"
        },
        "id": "k4_ZzlhVTGRN",
        "outputId": "af55cc94-c0f3-4249-c85b-81781cd1de30"
      },
      "execution_count": null,
      "outputs": [
        {
          "output_type": "stream",
          "name": "stdout",
          "text": [
            "   fruits  price\n",
            "2   melon     30\n",
            "1  banana     20\n",
            "0   apple     10\n"
          ]
        }
      ]
    },
    {
      "cell_type": "markdown",
      "source": [],
      "metadata": {
        "id": "4vEYXbGh25Pl"
      }
    }
  ]
}